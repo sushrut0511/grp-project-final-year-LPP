{
 "cells": [
  {
   "cell_type": "code",
   "execution_count": 118,
   "metadata": {},
   "outputs": [],
   "source": [
    "\n",
    "# import lib\n",
    "import math\n",
    "\n",
    "import matplotlib.pyplot as plt\n",
    "from mpl_toolkits.mplot3d import Axes3D"
   ]
  },
  {
   "cell_type": "code",
   "execution_count": 119,
   "metadata": {},
   "outputs": [],
   "source": [
    "#define function\n",
    "def evaluate1(a1,a2):\n",
    "    return  ((2.63*a1)+(2*a2))\n",
    "\n",
    "def evaluate2(a1,a2):\n",
    "    return  ((2.97*a1)-(2*a2))"
   ]
  },
  {
   "cell_type": "code",
   "execution_count": 120,
   "metadata": {},
   "outputs": [],
   "source": [
    "#create class for point and make array to store values\n",
    "class Point:\n",
    "\n",
    "    def __init__(self,x,y,a1,a2,err):\n",
    "        self.x=x\n",
    "        self.y=y\n",
    "        \n",
    "        self.a1=a1\n",
    "        self.a2=a2\n",
    "        self.error=err\n",
    "    def _str_(self):\n",
    "        print(f'{self.x} {self.x} {self.a1} {self.a2} {self.point_error}')    \n",
    "PointArray = []"
   ]
  },
  {
   "cell_type": "code",
   "execution_count": 121,
   "metadata": {},
   "outputs": [],
   "source": [
    "\n",
    "# Error calculation\n",
    "\n",
    "def err(x,Xreq):\n",
    "    temp=0\n",
    "    temp+= (Xreq-x)\n",
    "    return temp\n"
   ]
  },
  {
   "cell_type": "code",
   "execution_count": 122,
   "metadata": {},
   "outputs": [],
   "source": [
    "#assign tareget values to function\n",
    "\n",
    "XRequired=0\n"
   ]
  },
  {
   "cell_type": "code",
   "execution_count": 132,
   "metadata": {},
   "outputs": [],
   "source": [
    "# get values for each point and store in point array......(a1,a2 are the variables)\n",
    "for i in range(0,1000):\n",
    "    a1=i*0.001\n",
    "    for j in range(0,1000):\n",
    "        a2=j*0.001\n",
    "        x=evaluate1(a1,a2)\n",
    "        y=evaluate2(a1,a2)\n",
    "        point_error=err(x,0)\n",
    "         \n",
    "        \n",
    "        if((y>=0.5700) and (2.63*a1>=0.2000) and (2*a2>=0.2000)):\n",
    "            PointArray.append(Point(x,y,a1,a2,point_error))"
   ]
  },
  {
   "cell_type": "code",
   "execution_count": null,
   "metadata": {},
   "outputs": [],
   "source": [
    "#stroing instances in respestive arrays\n",
    "X=[]\n",
    "Y=[]\n",
    "Z=[]\n",
    "for temp in PointArray:\n",
    "    X.append(temp.x)\n",
    "    Y.append(temp.y)\n",
    "    "
   ]
  },
  {
   "cell_type": "code",
   "execution_count": null,
   "metadata": {},
   "outputs": [],
   "source": [
    "PointArray.sort(key=lambda x: point_error, reverse=False)"
   ]
  },
  {
   "cell_type": "code",
   "execution_count": null,
   "metadata": {},
   "outputs": [],
   "source": [
    "PointArray[0].a1\n"
   ]
  },
  {
   "cell_type": "code",
   "execution_count": null,
   "metadata": {},
   "outputs": [],
   "source": [
    "PointArray[0].a2"
   ]
  },
  {
   "cell_type": "code",
   "execution_count": null,
   "metadata": {},
   "outputs": [],
   "source": [
    "PointArray[0].x"
   ]
  },
  {
   "cell_type": "code",
   "execution_count": null,
   "metadata": {},
   "outputs": [],
   "source": [
    "PointArray[0].y"
   ]
  },
  {
   "cell_type": "code",
   "execution_count": null,
   "metadata": {},
   "outputs": [],
   "source": []
  },
  {
   "cell_type": "code",
   "execution_count": null,
   "metadata": {},
   "outputs": [],
   "source": []
  }
 ],
 "metadata": {
  "kernelspec": {
   "display_name": "Python 3",
   "language": "python",
   "name": "python3"
  },
  "language_info": {
   "codemirror_mode": {
    "name": "ipython",
    "version": 3
   },
   "file_extension": ".py",
   "mimetype": "text/x-python",
   "name": "python",
   "nbconvert_exporter": "python",
   "pygments_lexer": "ipython3",
   "version": "3.7.6"
  }
 },
 "nbformat": 4,
 "nbformat_minor": 4
}
